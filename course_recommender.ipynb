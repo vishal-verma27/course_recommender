{
 "cells": [
  {
   "cell_type": "markdown",
   "id": "0a1c6ac2",
   "metadata": {},
   "source": [
    "# Assignment 2: Personalized Course Recommendation Engine\n",
    "\n",
    "## 1. Background & Context\n",
    "Online learning platforms host thousands of courses across domains, making it difficult for learners to pick the right course.  \n",
    "A personalized recommender that understands both course content and user profiles can suggest the most relevant courses and improve engagement.\n",
    "\n",
    "This notebook demonstrates how to:\n",
    "\n",
    "- Load the course dataset\n",
    "- Generate embeddings using Gemini\n",
    "- Build a vector store using Chroma\n",
    "- Construct a RetrievalQA chain for semantic search and recommendations"
   ]
  },
  {
   "cell_type": "markdown",
   "id": "6825ea59",
   "metadata": {},
   "source": [
    "## 2. Install Required Libraries"
   ]
  },
  {
   "cell_type": "code",
   "execution_count": 1,
   "id": "b1a023d9",
   "metadata": {},
   "outputs": [
    {
     "name": "stdout",
     "output_type": "stream",
     "text": [
      "Requirement already satisfied: langchain in /home/zadmin/Desktop/test/GAAI-B5-GCP/.venv/lib/python3.12/site-packages (0.3.27)\n",
      "Requirement already satisfied: langchain-community in /home/zadmin/Desktop/test/GAAI-B5-GCP/.venv/lib/python3.12/site-packages (0.3.30)\n",
      "Requirement already satisfied: langchain-google-genai in /home/zadmin/Desktop/test/GAAI-B5-GCP/.venv/lib/python3.12/site-packages (2.1.12)\n",
      "Requirement already satisfied: mlflow in /home/zadmin/Desktop/test/GAAI-B5-GCP/.venv/lib/python3.12/site-packages (3.4.0)\n",
      "Requirement already satisfied: chromadb in /home/zadmin/Desktop/test/GAAI-B5-GCP/.venv/lib/python3.12/site-packages (1.1.1)\n",
      "Requirement already satisfied: langchain-core<1.0.0,>=0.3.72 in /home/zadmin/Desktop/test/GAAI-B5-GCP/.venv/lib/python3.12/site-packages (from langchain) (0.3.78)\n",
      "Requirement already satisfied: langchain-text-splitters<1.0.0,>=0.3.9 in /home/zadmin/Desktop/test/GAAI-B5-GCP/.venv/lib/python3.12/site-packages (from langchain) (0.3.11)\n",
      "Requirement already satisfied: langsmith>=0.1.17 in /home/zadmin/Desktop/test/GAAI-B5-GCP/.venv/lib/python3.12/site-packages (from langchain) (0.4.32)\n",
      "Requirement already satisfied: pydantic<3.0.0,>=2.7.4 in /home/zadmin/Desktop/test/GAAI-B5-GCP/.venv/lib/python3.12/site-packages (from langchain) (2.11.10)\n",
      "Requirement already satisfied: SQLAlchemy<3,>=1.4 in /home/zadmin/Desktop/test/GAAI-B5-GCP/.venv/lib/python3.12/site-packages (from langchain) (2.0.43)\n",
      "Requirement already satisfied: requests<3,>=2 in /home/zadmin/Desktop/test/GAAI-B5-GCP/.venv/lib/python3.12/site-packages (from langchain) (2.32.5)\n",
      "Requirement already satisfied: PyYAML>=5.3 in /home/zadmin/Desktop/test/GAAI-B5-GCP/.venv/lib/python3.12/site-packages (from langchain) (6.0.3)\n",
      "Requirement already satisfied: tenacity!=8.4.0,<10.0.0,>=8.1.0 in /home/zadmin/Desktop/test/GAAI-B5-GCP/.venv/lib/python3.12/site-packages (from langchain-core<1.0.0,>=0.3.72->langchain) (8.5.0)\n",
      "Requirement already satisfied: jsonpatch<2.0.0,>=1.33.0 in /home/zadmin/Desktop/test/GAAI-B5-GCP/.venv/lib/python3.12/site-packages (from langchain-core<1.0.0,>=0.3.72->langchain) (1.33)\n",
      "Requirement already satisfied: typing-extensions<5.0.0,>=4.7.0 in /home/zadmin/Desktop/test/GAAI-B5-GCP/.venv/lib/python3.12/site-packages (from langchain-core<1.0.0,>=0.3.72->langchain) (4.15.0)\n",
      "Requirement already satisfied: packaging<26.0.0,>=23.2.0 in /home/zadmin/Desktop/test/GAAI-B5-GCP/.venv/lib/python3.12/site-packages (from langchain-core<1.0.0,>=0.3.72->langchain) (23.2)\n",
      "Requirement already satisfied: jsonpointer>=1.9 in /home/zadmin/Desktop/test/GAAI-B5-GCP/.venv/lib/python3.12/site-packages (from jsonpatch<2.0.0,>=1.33.0->langchain-core<1.0.0,>=0.3.72->langchain) (3.0.0)\n",
      "Requirement already satisfied: httpx<1,>=0.23.0 in /home/zadmin/Desktop/test/GAAI-B5-GCP/.venv/lib/python3.12/site-packages (from langsmith>=0.1.17->langchain) (0.28.1)\n",
      "Requirement already satisfied: orjson>=3.9.14 in /home/zadmin/Desktop/test/GAAI-B5-GCP/.venv/lib/python3.12/site-packages (from langsmith>=0.1.17->langchain) (3.11.3)\n",
      "Requirement already satisfied: requests-toolbelt>=1.0.0 in /home/zadmin/Desktop/test/GAAI-B5-GCP/.venv/lib/python3.12/site-packages (from langsmith>=0.1.17->langchain) (1.0.0)\n",
      "Requirement already satisfied: zstandard>=0.23.0 in /home/zadmin/Desktop/test/GAAI-B5-GCP/.venv/lib/python3.12/site-packages (from langsmith>=0.1.17->langchain) (0.25.0)\n",
      "Requirement already satisfied: anyio in /home/zadmin/Desktop/test/GAAI-B5-GCP/.venv/lib/python3.12/site-packages (from httpx<1,>=0.23.0->langsmith>=0.1.17->langchain) (4.11.0)\n",
      "Requirement already satisfied: certifi in /home/zadmin/Desktop/test/GAAI-B5-GCP/.venv/lib/python3.12/site-packages (from httpx<1,>=0.23.0->langsmith>=0.1.17->langchain) (2025.10.5)\n",
      "Requirement already satisfied: httpcore==1.* in /home/zadmin/Desktop/test/GAAI-B5-GCP/.venv/lib/python3.12/site-packages (from httpx<1,>=0.23.0->langsmith>=0.1.17->langchain) (1.0.9)\n",
      "Requirement already satisfied: idna in /home/zadmin/Desktop/test/GAAI-B5-GCP/.venv/lib/python3.12/site-packages (from httpx<1,>=0.23.0->langsmith>=0.1.17->langchain) (3.10)\n",
      "Requirement already satisfied: h11>=0.16 in /home/zadmin/Desktop/test/GAAI-B5-GCP/.venv/lib/python3.12/site-packages (from httpcore==1.*->httpx<1,>=0.23.0->langsmith>=0.1.17->langchain) (0.16.0)\n",
      "Requirement already satisfied: annotated-types>=0.6.0 in /home/zadmin/Desktop/test/GAAI-B5-GCP/.venv/lib/python3.12/site-packages (from pydantic<3.0.0,>=2.7.4->langchain) (0.7.0)\n",
      "Requirement already satisfied: pydantic-core==2.33.2 in /home/zadmin/Desktop/test/GAAI-B5-GCP/.venv/lib/python3.12/site-packages (from pydantic<3.0.0,>=2.7.4->langchain) (2.33.2)\n",
      "Requirement already satisfied: typing-inspection>=0.4.0 in /home/zadmin/Desktop/test/GAAI-B5-GCP/.venv/lib/python3.12/site-packages (from pydantic<3.0.0,>=2.7.4->langchain) (0.4.2)\n",
      "Requirement already satisfied: charset_normalizer<4,>=2 in /home/zadmin/Desktop/test/GAAI-B5-GCP/.venv/lib/python3.12/site-packages (from requests<3,>=2->langchain) (3.4.3)\n",
      "Requirement already satisfied: urllib3<3,>=1.21.1 in /home/zadmin/Desktop/test/GAAI-B5-GCP/.venv/lib/python3.12/site-packages (from requests<3,>=2->langchain) (2.3.0)\n",
      "Requirement already satisfied: greenlet>=1 in /home/zadmin/Desktop/test/GAAI-B5-GCP/.venv/lib/python3.12/site-packages (from SQLAlchemy<3,>=1.4->langchain) (3.2.4)\n",
      "Requirement already satisfied: aiohttp<4.0.0,>=3.8.3 in /home/zadmin/Desktop/test/GAAI-B5-GCP/.venv/lib/python3.12/site-packages (from langchain-community) (3.12.15)\n",
      "Requirement already satisfied: dataclasses-json<0.7.0,>=0.6.7 in /home/zadmin/Desktop/test/GAAI-B5-GCP/.venv/lib/python3.12/site-packages (from langchain-community) (0.6.7)\n",
      "Requirement already satisfied: pydantic-settings<3.0.0,>=2.10.1 in /home/zadmin/Desktop/test/GAAI-B5-GCP/.venv/lib/python3.12/site-packages (from langchain-community) (2.11.0)\n",
      "Requirement already satisfied: httpx-sse<1.0.0,>=0.4.0 in /home/zadmin/Desktop/test/GAAI-B5-GCP/.venv/lib/python3.12/site-packages (from langchain-community) (0.4.1)\n",
      "Requirement already satisfied: numpy>=1.26.2 in /home/zadmin/Desktop/test/GAAI-B5-GCP/.venv/lib/python3.12/site-packages (from langchain-community) (1.26.4)\n",
      "Requirement already satisfied: aiohappyeyeballs>=2.5.0 in /home/zadmin/Desktop/test/GAAI-B5-GCP/.venv/lib/python3.12/site-packages (from aiohttp<4.0.0,>=3.8.3->langchain-community) (2.6.1)\n",
      "Requirement already satisfied: aiosignal>=1.4.0 in /home/zadmin/Desktop/test/GAAI-B5-GCP/.venv/lib/python3.12/site-packages (from aiohttp<4.0.0,>=3.8.3->langchain-community) (1.4.0)\n",
      "Requirement already satisfied: attrs>=17.3.0 in /home/zadmin/Desktop/test/GAAI-B5-GCP/.venv/lib/python3.12/site-packages (from aiohttp<4.0.0,>=3.8.3->langchain-community) (25.3.0)\n",
      "Requirement already satisfied: frozenlist>=1.1.1 in /home/zadmin/Desktop/test/GAAI-B5-GCP/.venv/lib/python3.12/site-packages (from aiohttp<4.0.0,>=3.8.3->langchain-community) (1.7.0)\n",
      "Requirement already satisfied: multidict<7.0,>=4.5 in /home/zadmin/Desktop/test/GAAI-B5-GCP/.venv/lib/python3.12/site-packages (from aiohttp<4.0.0,>=3.8.3->langchain-community) (6.6.4)\n",
      "Requirement already satisfied: propcache>=0.2.0 in /home/zadmin/Desktop/test/GAAI-B5-GCP/.venv/lib/python3.12/site-packages (from aiohttp<4.0.0,>=3.8.3->langchain-community) (0.4.0)\n",
      "Requirement already satisfied: yarl<2.0,>=1.17.0 in /home/zadmin/Desktop/test/GAAI-B5-GCP/.venv/lib/python3.12/site-packages (from aiohttp<4.0.0,>=3.8.3->langchain-community) (1.20.1)\n",
      "Requirement already satisfied: marshmallow<4.0.0,>=3.18.0 in /home/zadmin/Desktop/test/GAAI-B5-GCP/.venv/lib/python3.12/site-packages (from dataclasses-json<0.7.0,>=0.6.7->langchain-community) (3.26.1)\n",
      "Requirement already satisfied: typing-inspect<1,>=0.4.0 in /home/zadmin/Desktop/test/GAAI-B5-GCP/.venv/lib/python3.12/site-packages (from dataclasses-json<0.7.0,>=0.6.7->langchain-community) (0.9.0)\n",
      "Requirement already satisfied: python-dotenv>=0.21.0 in /home/zadmin/Desktop/test/GAAI-B5-GCP/.venv/lib/python3.12/site-packages (from pydantic-settings<3.0.0,>=2.10.1->langchain-community) (1.1.1)\n",
      "Requirement already satisfied: mypy-extensions>=0.3.0 in /home/zadmin/Desktop/test/GAAI-B5-GCP/.venv/lib/python3.12/site-packages (from typing-inspect<1,>=0.4.0->dataclasses-json<0.7.0,>=0.6.7->langchain-community) (1.1.0)\n",
      "Requirement already satisfied: google-ai-generativelanguage<1,>=0.7 in /home/zadmin/Desktop/test/GAAI-B5-GCP/.venv/lib/python3.12/site-packages (from langchain-google-genai) (0.7.0)\n",
      "Requirement already satisfied: filetype<2,>=1.2 in /home/zadmin/Desktop/test/GAAI-B5-GCP/.venv/lib/python3.12/site-packages (from langchain-google-genai) (1.2.0)\n",
      "Requirement already satisfied: google-api-core!=2.0.*,!=2.1.*,!=2.10.*,!=2.2.*,!=2.3.*,!=2.4.*,!=2.5.*,!=2.6.*,!=2.7.*,!=2.8.*,!=2.9.*,<3.0.0,>=1.34.1 in /home/zadmin/Desktop/test/GAAI-B5-GCP/.venv/lib/python3.12/site-packages (from google-api-core[grpc]!=2.0.*,!=2.1.*,!=2.10.*,!=2.2.*,!=2.3.*,!=2.4.*,!=2.5.*,!=2.6.*,!=2.7.*,!=2.8.*,!=2.9.*,<3.0.0,>=1.34.1->google-ai-generativelanguage<1,>=0.7->langchain-google-genai) (2.25.2)\n",
      "Requirement already satisfied: google-auth!=2.24.0,!=2.25.0,<3.0.0,>=2.14.1 in /home/zadmin/Desktop/test/GAAI-B5-GCP/.venv/lib/python3.12/site-packages (from google-ai-generativelanguage<1,>=0.7->langchain-google-genai) (2.41.1)\n",
      "Requirement already satisfied: proto-plus<2.0.0,>=1.22.3 in /home/zadmin/Desktop/test/GAAI-B5-GCP/.venv/lib/python3.12/site-packages (from google-ai-generativelanguage<1,>=0.7->langchain-google-genai) (1.26.1)\n",
      "Requirement already satisfied: protobuf!=4.21.0,!=4.21.1,!=4.21.2,!=4.21.3,!=4.21.4,!=4.21.5,<7.0.0,>=3.20.2 in /home/zadmin/Desktop/test/GAAI-B5-GCP/.venv/lib/python3.12/site-packages (from google-ai-generativelanguage<1,>=0.7->langchain-google-genai) (4.25.8)\n",
      "Requirement already satisfied: googleapis-common-protos<2.0.0,>=1.56.2 in /home/zadmin/Desktop/test/GAAI-B5-GCP/.venv/lib/python3.12/site-packages (from google-api-core!=2.0.*,!=2.1.*,!=2.10.*,!=2.2.*,!=2.3.*,!=2.4.*,!=2.5.*,!=2.6.*,!=2.7.*,!=2.8.*,!=2.9.*,<3.0.0,>=1.34.1->google-api-core[grpc]!=2.0.*,!=2.1.*,!=2.10.*,!=2.2.*,!=2.3.*,!=2.4.*,!=2.5.*,!=2.6.*,!=2.7.*,!=2.8.*,!=2.9.*,<3.0.0,>=1.34.1->google-ai-generativelanguage<1,>=0.7->langchain-google-genai) (1.70.0)\n",
      "Requirement already satisfied: grpcio<2.0.0,>=1.33.2 in /home/zadmin/Desktop/test/GAAI-B5-GCP/.venv/lib/python3.12/site-packages (from google-api-core[grpc]!=2.0.*,!=2.1.*,!=2.10.*,!=2.2.*,!=2.3.*,!=2.4.*,!=2.5.*,!=2.6.*,!=2.7.*,!=2.8.*,!=2.9.*,<3.0.0,>=1.34.1->google-ai-generativelanguage<1,>=0.7->langchain-google-genai) (1.75.1)\n",
      "Requirement already satisfied: grpcio-status<2.0.0,>=1.33.2 in /home/zadmin/Desktop/test/GAAI-B5-GCP/.venv/lib/python3.12/site-packages (from google-api-core[grpc]!=2.0.*,!=2.1.*,!=2.10.*,!=2.2.*,!=2.3.*,!=2.4.*,!=2.5.*,!=2.6.*,!=2.7.*,!=2.8.*,!=2.9.*,<3.0.0,>=1.34.1->google-ai-generativelanguage<1,>=0.7->langchain-google-genai) (1.62.3)\n",
      "Requirement already satisfied: cachetools<7.0,>=2.0.0 in /home/zadmin/Desktop/test/GAAI-B5-GCP/.venv/lib/python3.12/site-packages (from google-auth!=2.24.0,!=2.25.0,<3.0.0,>=2.14.1->google-ai-generativelanguage<1,>=0.7->langchain-google-genai) (6.2.0)\n",
      "Requirement already satisfied: pyasn1-modules>=0.2.1 in /home/zadmin/Desktop/test/GAAI-B5-GCP/.venv/lib/python3.12/site-packages (from google-auth!=2.24.0,!=2.25.0,<3.0.0,>=2.14.1->google-ai-generativelanguage<1,>=0.7->langchain-google-genai) (0.4.2)\n",
      "Requirement already satisfied: rsa<5,>=3.1.4 in /home/zadmin/Desktop/test/GAAI-B5-GCP/.venv/lib/python3.12/site-packages (from google-auth!=2.24.0,!=2.25.0,<3.0.0,>=2.14.1->google-ai-generativelanguage<1,>=0.7->langchain-google-genai) (4.9.1)\n",
      "Requirement already satisfied: pyasn1>=0.1.3 in /home/zadmin/Desktop/test/GAAI-B5-GCP/.venv/lib/python3.12/site-packages (from rsa<5,>=3.1.4->google-auth!=2.24.0,!=2.25.0,<3.0.0,>=2.14.1->google-ai-generativelanguage<1,>=0.7->langchain-google-genai) (0.6.1)\n",
      "Requirement already satisfied: mlflow-skinny==3.4.0 in /home/zadmin/Desktop/test/GAAI-B5-GCP/.venv/lib/python3.12/site-packages (from mlflow) (3.4.0)\n",
      "Requirement already satisfied: mlflow-tracing==3.4.0 in /home/zadmin/Desktop/test/GAAI-B5-GCP/.venv/lib/python3.12/site-packages (from mlflow) (3.4.0)\n",
      "Requirement already satisfied: Flask<4 in /home/zadmin/Desktop/test/GAAI-B5-GCP/.venv/lib/python3.12/site-packages (from mlflow) (3.1.2)\n",
      "Requirement already satisfied: alembic!=1.10.0,<2 in /home/zadmin/Desktop/test/GAAI-B5-GCP/.venv/lib/python3.12/site-packages (from mlflow) (1.16.5)\n",
      "Requirement already satisfied: cryptography<46,>=43.0.0 in /home/zadmin/Desktop/test/GAAI-B5-GCP/.venv/lib/python3.12/site-packages (from mlflow) (45.0.7)\n",
      "Requirement already satisfied: docker<8,>=4.0.0 in /home/zadmin/Desktop/test/GAAI-B5-GCP/.venv/lib/python3.12/site-packages (from mlflow) (7.1.0)\n",
      "Requirement already satisfied: fastmcp<3,>=2.0.0 in /home/zadmin/Desktop/test/GAAI-B5-GCP/.venv/lib/python3.12/site-packages (from mlflow) (2.12.4)\n",
      "Requirement already satisfied: graphene<4 in /home/zadmin/Desktop/test/GAAI-B5-GCP/.venv/lib/python3.12/site-packages (from mlflow) (3.4.3)\n",
      "Requirement already satisfied: gunicorn<24 in /home/zadmin/Desktop/test/GAAI-B5-GCP/.venv/lib/python3.12/site-packages (from mlflow) (21.2.0)\n",
      "Requirement already satisfied: matplotlib<4 in /home/zadmin/Desktop/test/GAAI-B5-GCP/.venv/lib/python3.12/site-packages (from mlflow) (3.10.6)\n",
      "Requirement already satisfied: pandas<3 in /home/zadmin/Desktop/test/GAAI-B5-GCP/.venv/lib/python3.12/site-packages (from mlflow) (2.3.3)\n",
      "Requirement already satisfied: pyarrow<22,>=4.0.0 in /home/zadmin/Desktop/test/GAAI-B5-GCP/.venv/lib/python3.12/site-packages (from mlflow) (15.0.2)\n",
      "Requirement already satisfied: scikit-learn<2 in /home/zadmin/Desktop/test/GAAI-B5-GCP/.venv/lib/python3.12/site-packages (from mlflow) (1.7.2)\n",
      "Requirement already satisfied: scipy<2 in /home/zadmin/Desktop/test/GAAI-B5-GCP/.venv/lib/python3.12/site-packages (from mlflow) (1.16.2)\n",
      "Requirement already satisfied: click<9,>=7.0 in /home/zadmin/Desktop/test/GAAI-B5-GCP/.venv/lib/python3.12/site-packages (from mlflow-skinny==3.4.0->mlflow) (8.3.0)\n",
      "Requirement already satisfied: cloudpickle<4 in /home/zadmin/Desktop/test/GAAI-B5-GCP/.venv/lib/python3.12/site-packages (from mlflow-skinny==3.4.0->mlflow) (3.1.1)\n",
      "Requirement already satisfied: databricks-sdk<1,>=0.20.0 in /home/zadmin/Desktop/test/GAAI-B5-GCP/.venv/lib/python3.12/site-packages (from mlflow-skinny==3.4.0->mlflow) (0.67.0)\n",
      "Requirement already satisfied: fastapi<1 in /home/zadmin/Desktop/test/GAAI-B5-GCP/.venv/lib/python3.12/site-packages (from mlflow-skinny==3.4.0->mlflow) (0.118.0)\n",
      "Requirement already satisfied: gitpython<4,>=3.1.9 in /home/zadmin/Desktop/test/GAAI-B5-GCP/.venv/lib/python3.12/site-packages (from mlflow-skinny==3.4.0->mlflow) (3.1.45)\n",
      "Requirement already satisfied: importlib_metadata!=4.7.0,<9,>=3.7.0 in /home/zadmin/Desktop/test/GAAI-B5-GCP/.venv/lib/python3.12/site-packages (from mlflow-skinny==3.4.0->mlflow) (7.2.1)\n",
      "Requirement already satisfied: opentelemetry-api<3,>=1.9.0 in /home/zadmin/Desktop/test/GAAI-B5-GCP/.venv/lib/python3.12/site-packages (from mlflow-skinny==3.4.0->mlflow) (1.27.0)\n",
      "Requirement already satisfied: opentelemetry-proto<3,>=1.9.0 in /home/zadmin/Desktop/test/GAAI-B5-GCP/.venv/lib/python3.12/site-packages (from mlflow-skinny==3.4.0->mlflow) (1.27.0)\n",
      "Requirement already satisfied: opentelemetry-sdk<3,>=1.9.0 in /home/zadmin/Desktop/test/GAAI-B5-GCP/.venv/lib/python3.12/site-packages (from mlflow-skinny==3.4.0->mlflow) (1.27.0)\n",
      "Requirement already satisfied: sqlparse<1,>=0.4.0 in /home/zadmin/Desktop/test/GAAI-B5-GCP/.venv/lib/python3.12/site-packages (from mlflow-skinny==3.4.0->mlflow) (0.5.3)\n",
      "Requirement already satisfied: uvicorn<1 in /home/zadmin/Desktop/test/GAAI-B5-GCP/.venv/lib/python3.12/site-packages (from mlflow-skinny==3.4.0->mlflow) (0.37.0)\n",
      "Requirement already satisfied: Mako in /home/zadmin/Desktop/test/GAAI-B5-GCP/.venv/lib/python3.12/site-packages (from alembic!=1.10.0,<2->mlflow) (1.3.10)\n",
      "Requirement already satisfied: cffi>=1.14 in /home/zadmin/Desktop/test/GAAI-B5-GCP/.venv/lib/python3.12/site-packages (from cryptography<46,>=43.0.0->mlflow) (2.0.0)\n",
      "Requirement already satisfied: starlette<0.49.0,>=0.40.0 in /home/zadmin/Desktop/test/GAAI-B5-GCP/.venv/lib/python3.12/site-packages (from fastapi<1->mlflow-skinny==3.4.0->mlflow) (0.48.0)\n",
      "Requirement already satisfied: authlib>=1.5.2 in /home/zadmin/Desktop/test/GAAI-B5-GCP/.venv/lib/python3.12/site-packages (from fastmcp<3,>=2.0.0->mlflow) (1.6.5)\n",
      "Requirement already satisfied: cyclopts>=3.0.0 in /home/zadmin/Desktop/test/GAAI-B5-GCP/.venv/lib/python3.12/site-packages (from fastmcp<3,>=2.0.0->mlflow) (3.24.0)\n",
      "Requirement already satisfied: exceptiongroup>=1.2.2 in /home/zadmin/Desktop/test/GAAI-B5-GCP/.venv/lib/python3.12/site-packages (from fastmcp<3,>=2.0.0->mlflow) (1.3.0)\n",
      "Requirement already satisfied: mcp<2.0.0,>=1.12.4 in /home/zadmin/Desktop/test/GAAI-B5-GCP/.venv/lib/python3.12/site-packages (from fastmcp<3,>=2.0.0->mlflow) (1.16.0)\n",
      "Requirement already satisfied: openapi-core>=0.19.5 in /home/zadmin/Desktop/test/GAAI-B5-GCP/.venv/lib/python3.12/site-packages (from fastmcp<3,>=2.0.0->mlflow) (0.19.5)\n",
      "Requirement already satisfied: openapi-pydantic>=0.5.1 in /home/zadmin/Desktop/test/GAAI-B5-GCP/.venv/lib/python3.12/site-packages (from fastmcp<3,>=2.0.0->mlflow) (0.5.1)\n",
      "Requirement already satisfied: pyperclip>=1.9.0 in /home/zadmin/Desktop/test/GAAI-B5-GCP/.venv/lib/python3.12/site-packages (from fastmcp<3,>=2.0.0->mlflow) (1.11.0)\n",
      "Requirement already satisfied: rich>=13.9.4 in /home/zadmin/Desktop/test/GAAI-B5-GCP/.venv/lib/python3.12/site-packages (from fastmcp<3,>=2.0.0->mlflow) (14.1.0)\n",
      "Requirement already satisfied: blinker>=1.9.0 in /home/zadmin/Desktop/test/GAAI-B5-GCP/.venv/lib/python3.12/site-packages (from Flask<4->mlflow) (1.9.0)\n",
      "Requirement already satisfied: itsdangerous>=2.2.0 in /home/zadmin/Desktop/test/GAAI-B5-GCP/.venv/lib/python3.12/site-packages (from Flask<4->mlflow) (2.2.0)\n",
      "Requirement already satisfied: jinja2>=3.1.2 in /home/zadmin/Desktop/test/GAAI-B5-GCP/.venv/lib/python3.12/site-packages (from Flask<4->mlflow) (3.1.6)\n",
      "Requirement already satisfied: markupsafe>=2.1.1 in /home/zadmin/Desktop/test/GAAI-B5-GCP/.venv/lib/python3.12/site-packages (from Flask<4->mlflow) (3.0.3)\n",
      "Requirement already satisfied: werkzeug>=3.1.0 in /home/zadmin/Desktop/test/GAAI-B5-GCP/.venv/lib/python3.12/site-packages (from Flask<4->mlflow) (3.1.1)\n",
      "Requirement already satisfied: gitdb<5,>=4.0.1 in /home/zadmin/Desktop/test/GAAI-B5-GCP/.venv/lib/python3.12/site-packages (from gitpython<4,>=3.1.9->mlflow-skinny==3.4.0->mlflow) (4.0.12)\n",
      "Requirement already satisfied: smmap<6,>=3.0.1 in /home/zadmin/Desktop/test/GAAI-B5-GCP/.venv/lib/python3.12/site-packages (from gitdb<5,>=4.0.1->gitpython<4,>=3.1.9->mlflow-skinny==3.4.0->mlflow) (5.0.2)\n",
      "Requirement already satisfied: graphql-core<3.3,>=3.1 in /home/zadmin/Desktop/test/GAAI-B5-GCP/.venv/lib/python3.12/site-packages (from graphene<4->mlflow) (3.2.6)\n",
      "Requirement already satisfied: graphql-relay<3.3,>=3.1 in /home/zadmin/Desktop/test/GAAI-B5-GCP/.venv/lib/python3.12/site-packages (from graphene<4->mlflow) (3.2.0)\n",
      "Requirement already satisfied: python-dateutil<3,>=2.7.0 in /home/zadmin/Desktop/test/GAAI-B5-GCP/.venv/lib/python3.12/site-packages (from graphene<4->mlflow) (2.9.0.post0)\n",
      "Requirement already satisfied: zipp>=0.5 in /home/zadmin/Desktop/test/GAAI-B5-GCP/.venv/lib/python3.12/site-packages (from importlib_metadata!=4.7.0,<9,>=3.7.0->mlflow-skinny==3.4.0->mlflow) (3.23.0)\n",
      "Requirement already satisfied: contourpy>=1.0.1 in /home/zadmin/Desktop/test/GAAI-B5-GCP/.venv/lib/python3.12/site-packages (from matplotlib<4->mlflow) (1.3.3)\n",
      "Requirement already satisfied: cycler>=0.10 in /home/zadmin/Desktop/test/GAAI-B5-GCP/.venv/lib/python3.12/site-packages (from matplotlib<4->mlflow) (0.12.1)\n",
      "Requirement already satisfied: fonttools>=4.22.0 in /home/zadmin/Desktop/test/GAAI-B5-GCP/.venv/lib/python3.12/site-packages (from matplotlib<4->mlflow) (4.60.1)\n",
      "Requirement already satisfied: kiwisolver>=1.3.1 in /home/zadmin/Desktop/test/GAAI-B5-GCP/.venv/lib/python3.12/site-packages (from matplotlib<4->mlflow) (1.4.9)\n",
      "Requirement already satisfied: pillow>=8 in /home/zadmin/Desktop/test/GAAI-B5-GCP/.venv/lib/python3.12/site-packages (from matplotlib<4->mlflow) (11.3.0)\n",
      "Requirement already satisfied: pyparsing>=2.3.1 in /home/zadmin/Desktop/test/GAAI-B5-GCP/.venv/lib/python3.12/site-packages (from matplotlib<4->mlflow) (3.2.5)\n",
      "Requirement already satisfied: jsonschema>=4.20.0 in /home/zadmin/Desktop/test/GAAI-B5-GCP/.venv/lib/python3.12/site-packages (from mcp<2.0.0,>=1.12.4->fastmcp<3,>=2.0.0->mlflow) (4.25.1)\n",
      "Requirement already satisfied: python-multipart>=0.0.9 in /home/zadmin/Desktop/test/GAAI-B5-GCP/.venv/lib/python3.12/site-packages (from mcp<2.0.0,>=1.12.4->fastmcp<3,>=2.0.0->mlflow) (0.0.20)\n",
      "Requirement already satisfied: sse-starlette>=1.6.1 in /home/zadmin/Desktop/test/GAAI-B5-GCP/.venv/lib/python3.12/site-packages (from mcp<2.0.0,>=1.12.4->fastmcp<3,>=2.0.0->mlflow) (3.0.2)\n",
      "Requirement already satisfied: deprecated>=1.2.6 in /home/zadmin/Desktop/test/GAAI-B5-GCP/.venv/lib/python3.12/site-packages (from opentelemetry-api<3,>=1.9.0->mlflow-skinny==3.4.0->mlflow) (1.2.18)\n",
      "Requirement already satisfied: opentelemetry-semantic-conventions==0.48b0 in /home/zadmin/Desktop/test/GAAI-B5-GCP/.venv/lib/python3.12/site-packages (from opentelemetry-sdk<3,>=1.9.0->mlflow-skinny==3.4.0->mlflow) (0.48b0)\n",
      "Requirement already satisfied: pytz>=2020.1 in /home/zadmin/Desktop/test/GAAI-B5-GCP/.venv/lib/python3.12/site-packages (from pandas<3->mlflow) (2024.2)\n",
      "Requirement already satisfied: tzdata>=2022.7 in /home/zadmin/Desktop/test/GAAI-B5-GCP/.venv/lib/python3.12/site-packages (from pandas<3->mlflow) (2025.2)\n",
      "Requirement already satisfied: six>=1.5 in /home/zadmin/Desktop/test/GAAI-B5-GCP/.venv/lib/python3.12/site-packages (from python-dateutil<3,>=2.7.0->graphene<4->mlflow) (1.17.0)\n",
      "Requirement already satisfied: joblib>=1.2.0 in /home/zadmin/Desktop/test/GAAI-B5-GCP/.venv/lib/python3.12/site-packages (from scikit-learn<2->mlflow) (1.5.2)\n",
      "Requirement already satisfied: threadpoolctl>=3.1.0 in /home/zadmin/Desktop/test/GAAI-B5-GCP/.venv/lib/python3.12/site-packages (from scikit-learn<2->mlflow) (3.6.0)\n",
      "Requirement already satisfied: sniffio>=1.1 in /home/zadmin/Desktop/test/GAAI-B5-GCP/.venv/lib/python3.12/site-packages (from anyio->httpx<1,>=0.23.0->langsmith>=0.1.17->langchain) (1.3.1)\n",
      "Requirement already satisfied: build>=1.0.3 in /home/zadmin/Desktop/test/GAAI-B5-GCP/.venv/lib/python3.12/site-packages (from chromadb) (1.3.0)\n",
      "Requirement already satisfied: pybase64>=1.4.1 in /home/zadmin/Desktop/test/GAAI-B5-GCP/.venv/lib/python3.12/site-packages (from chromadb) (1.4.2)\n",
      "Requirement already satisfied: posthog<6.0.0,>=2.4.0 in /home/zadmin/Desktop/test/GAAI-B5-GCP/.venv/lib/python3.12/site-packages (from chromadb) (5.4.0)\n",
      "Requirement already satisfied: onnxruntime>=1.14.1 in /home/zadmin/Desktop/test/GAAI-B5-GCP/.venv/lib/python3.12/site-packages (from chromadb) (1.23.0)\n",
      "Requirement already satisfied: opentelemetry-exporter-otlp-proto-grpc>=1.2.0 in /home/zadmin/Desktop/test/GAAI-B5-GCP/.venv/lib/python3.12/site-packages (from chromadb) (1.27.0)\n",
      "Requirement already satisfied: tokenizers>=0.13.2 in /home/zadmin/Desktop/test/GAAI-B5-GCP/.venv/lib/python3.12/site-packages (from chromadb) (0.22.1)\n",
      "Requirement already satisfied: pypika>=0.48.9 in /home/zadmin/Desktop/test/GAAI-B5-GCP/.venv/lib/python3.12/site-packages (from chromadb) (0.48.9)\n",
      "Requirement already satisfied: tqdm>=4.65.0 in /home/zadmin/Desktop/test/GAAI-B5-GCP/.venv/lib/python3.12/site-packages (from chromadb) (4.67.1)\n",
      "Requirement already satisfied: overrides>=7.3.1 in /home/zadmin/Desktop/test/GAAI-B5-GCP/.venv/lib/python3.12/site-packages (from chromadb) (7.7.0)\n",
      "Requirement already satisfied: importlib-resources in /home/zadmin/Desktop/test/GAAI-B5-GCP/.venv/lib/python3.12/site-packages (from chromadb) (6.5.2)\n",
      "Requirement already satisfied: bcrypt>=4.0.1 in /home/zadmin/Desktop/test/GAAI-B5-GCP/.venv/lib/python3.12/site-packages (from chromadb) (5.0.0)\n",
      "Requirement already satisfied: typer>=0.9.0 in /home/zadmin/Desktop/test/GAAI-B5-GCP/.venv/lib/python3.12/site-packages (from chromadb) (0.19.2)\n",
      "Requirement already satisfied: kubernetes>=28.1.0 in /home/zadmin/Desktop/test/GAAI-B5-GCP/.venv/lib/python3.12/site-packages (from chromadb) (34.1.0)\n",
      "Requirement already satisfied: mmh3>=4.0.1 in /home/zadmin/Desktop/test/GAAI-B5-GCP/.venv/lib/python3.12/site-packages (from chromadb) (5.2.0)\n",
      "Requirement already satisfied: backoff>=1.10.0 in /home/zadmin/Desktop/test/GAAI-B5-GCP/.venv/lib/python3.12/site-packages (from posthog<6.0.0,>=2.4.0->chromadb) (2.2.1)\n",
      "Requirement already satisfied: distro>=1.5.0 in /home/zadmin/Desktop/test/GAAI-B5-GCP/.venv/lib/python3.12/site-packages (from posthog<6.0.0,>=2.4.0->chromadb) (1.9.0)\n",
      "Requirement already satisfied: pyproject_hooks in /home/zadmin/Desktop/test/GAAI-B5-GCP/.venv/lib/python3.12/site-packages (from build>=1.0.3->chromadb) (1.2.0)\n",
      "Requirement already satisfied: pycparser in /home/zadmin/Desktop/test/GAAI-B5-GCP/.venv/lib/python3.12/site-packages (from cffi>=1.14->cryptography<46,>=43.0.0->mlflow) (2.23)\n",
      "Requirement already satisfied: docstring-parser>=0.15 in /home/zadmin/Desktop/test/GAAI-B5-GCP/.venv/lib/python3.12/site-packages (from cyclopts>=3.0.0->fastmcp<3,>=2.0.0->mlflow) (0.17.0)\n",
      "Requirement already satisfied: rich-rst<2.0.0,>=1.3.1 in /home/zadmin/Desktop/test/GAAI-B5-GCP/.venv/lib/python3.12/site-packages (from cyclopts>=3.0.0->fastmcp<3,>=2.0.0->mlflow) (1.3.1)\n",
      "Requirement already satisfied: docutils in /home/zadmin/Desktop/test/GAAI-B5-GCP/.venv/lib/python3.12/site-packages (from rich-rst<2.0.0,>=1.3.1->cyclopts>=3.0.0->fastmcp<3,>=2.0.0->mlflow) (0.22.2)\n",
      "Requirement already satisfied: wrapt<2,>=1.10 in /home/zadmin/Desktop/test/GAAI-B5-GCP/.venv/lib/python3.12/site-packages (from deprecated>=1.2.6->opentelemetry-api<3,>=1.9.0->mlflow-skinny==3.4.0->mlflow) (1.17.3)\n",
      "Requirement already satisfied: jsonschema-specifications>=2023.03.6 in /home/zadmin/Desktop/test/GAAI-B5-GCP/.venv/lib/python3.12/site-packages (from jsonschema>=4.20.0->mcp<2.0.0,>=1.12.4->fastmcp<3,>=2.0.0->mlflow) (2025.9.1)\n",
      "Requirement already satisfied: referencing>=0.28.4 in /home/zadmin/Desktop/test/GAAI-B5-GCP/.venv/lib/python3.12/site-packages (from jsonschema>=4.20.0->mcp<2.0.0,>=1.12.4->fastmcp<3,>=2.0.0->mlflow) (0.36.2)\n",
      "Requirement already satisfied: rpds-py>=0.7.1 in /home/zadmin/Desktop/test/GAAI-B5-GCP/.venv/lib/python3.12/site-packages (from jsonschema>=4.20.0->mcp<2.0.0,>=1.12.4->fastmcp<3,>=2.0.0->mlflow) (0.27.1)\n",
      "Requirement already satisfied: websocket-client!=0.40.0,!=0.41.*,!=0.42.*,>=0.32.0 in /home/zadmin/Desktop/test/GAAI-B5-GCP/.venv/lib/python3.12/site-packages (from kubernetes>=28.1.0->chromadb) (1.8.0)\n",
      "Requirement already satisfied: requests-oauthlib in /home/zadmin/Desktop/test/GAAI-B5-GCP/.venv/lib/python3.12/site-packages (from kubernetes>=28.1.0->chromadb) (2.0.0)\n",
      "Requirement already satisfied: durationpy>=0.7 in /home/zadmin/Desktop/test/GAAI-B5-GCP/.venv/lib/python3.12/site-packages (from kubernetes>=28.1.0->chromadb) (0.10)\n",
      "Requirement already satisfied: coloredlogs in /home/zadmin/Desktop/test/GAAI-B5-GCP/.venv/lib/python3.12/site-packages (from onnxruntime>=1.14.1->chromadb) (15.0.1)\n",
      "Requirement already satisfied: flatbuffers in /home/zadmin/Desktop/test/GAAI-B5-GCP/.venv/lib/python3.12/site-packages (from onnxruntime>=1.14.1->chromadb) (25.9.23)\n",
      "Requirement already satisfied: sympy in /home/zadmin/Desktop/test/GAAI-B5-GCP/.venv/lib/python3.12/site-packages (from onnxruntime>=1.14.1->chromadb) (1.14.0)\n",
      "Requirement already satisfied: isodate in /home/zadmin/Desktop/test/GAAI-B5-GCP/.venv/lib/python3.12/site-packages (from openapi-core>=0.19.5->fastmcp<3,>=2.0.0->mlflow) (0.7.2)\n",
      "Requirement already satisfied: jsonschema-path<0.4.0,>=0.3.1 in /home/zadmin/Desktop/test/GAAI-B5-GCP/.venv/lib/python3.12/site-packages (from openapi-core>=0.19.5->fastmcp<3,>=2.0.0->mlflow) (0.3.4)\n",
      "Requirement already satisfied: more-itertools in /home/zadmin/Desktop/test/GAAI-B5-GCP/.venv/lib/python3.12/site-packages (from openapi-core>=0.19.5->fastmcp<3,>=2.0.0->mlflow) (10.8.0)\n",
      "Requirement already satisfied: openapi-schema-validator<0.7.0,>=0.6.0 in /home/zadmin/Desktop/test/GAAI-B5-GCP/.venv/lib/python3.12/site-packages (from openapi-core>=0.19.5->fastmcp<3,>=2.0.0->mlflow) (0.6.3)\n",
      "Requirement already satisfied: openapi-spec-validator<0.8.0,>=0.7.1 in /home/zadmin/Desktop/test/GAAI-B5-GCP/.venv/lib/python3.12/site-packages (from openapi-core>=0.19.5->fastmcp<3,>=2.0.0->mlflow) (0.7.2)\n",
      "Requirement already satisfied: parse in /home/zadmin/Desktop/test/GAAI-B5-GCP/.venv/lib/python3.12/site-packages (from openapi-core>=0.19.5->fastmcp<3,>=2.0.0->mlflow) (1.20.2)\n",
      "Requirement already satisfied: pathable<0.5.0,>=0.4.1 in /home/zadmin/Desktop/test/GAAI-B5-GCP/.venv/lib/python3.12/site-packages (from jsonschema-path<0.4.0,>=0.3.1->openapi-core>=0.19.5->fastmcp<3,>=2.0.0->mlflow) (0.4.4)\n",
      "Requirement already satisfied: rfc3339-validator in /home/zadmin/Desktop/test/GAAI-B5-GCP/.venv/lib/python3.12/site-packages (from openapi-schema-validator<0.7.0,>=0.6.0->openapi-core>=0.19.5->fastmcp<3,>=2.0.0->mlflow) (0.1.4)\n",
      "Requirement already satisfied: lazy-object-proxy<2.0.0,>=1.7.1 in /home/zadmin/Desktop/test/GAAI-B5-GCP/.venv/lib/python3.12/site-packages (from openapi-spec-validator<0.8.0,>=0.7.1->openapi-core>=0.19.5->fastmcp<3,>=2.0.0->mlflow) (1.12.0)\n",
      "Requirement already satisfied: opentelemetry-exporter-otlp-proto-common==1.27.0 in /home/zadmin/Desktop/test/GAAI-B5-GCP/.venv/lib/python3.12/site-packages (from opentelemetry-exporter-otlp-proto-grpc>=1.2.0->chromadb) (1.27.0)\n",
      "Requirement already satisfied: email-validator>=2.0.0 in /home/zadmin/Desktop/test/GAAI-B5-GCP/.venv/lib/python3.12/site-packages (from pydantic[email]>=2.11.7->fastmcp<3,>=2.0.0->mlflow) (2.3.0)\n",
      "Requirement already satisfied: dnspython>=2.0.0 in /home/zadmin/Desktop/test/GAAI-B5-GCP/.venv/lib/python3.12/site-packages (from email-validator>=2.0.0->pydantic[email]>=2.11.7->fastmcp<3,>=2.0.0->mlflow) (2.8.0)\n",
      "Requirement already satisfied: markdown-it-py>=2.2.0 in /home/zadmin/Desktop/test/GAAI-B5-GCP/.venv/lib/python3.12/site-packages (from rich>=13.9.4->fastmcp<3,>=2.0.0->mlflow) (4.0.0)\n",
      "Requirement already satisfied: pygments<3.0.0,>=2.13.0 in /home/zadmin/Desktop/test/GAAI-B5-GCP/.venv/lib/python3.12/site-packages (from rich>=13.9.4->fastmcp<3,>=2.0.0->mlflow) (2.19.2)\n",
      "Requirement already satisfied: mdurl~=0.1 in /home/zadmin/Desktop/test/GAAI-B5-GCP/.venv/lib/python3.12/site-packages (from markdown-it-py>=2.2.0->rich>=13.9.4->fastmcp<3,>=2.0.0->mlflow) (0.1.2)\n",
      "Requirement already satisfied: huggingface-hub<2.0,>=0.16.4 in /home/zadmin/Desktop/test/GAAI-B5-GCP/.venv/lib/python3.12/site-packages (from tokenizers>=0.13.2->chromadb) (0.35.3)\n",
      "Requirement already satisfied: filelock in /home/zadmin/Desktop/test/GAAI-B5-GCP/.venv/lib/python3.12/site-packages (from huggingface-hub<2.0,>=0.16.4->tokenizers>=0.13.2->chromadb) (3.19.1)\n",
      "Requirement already satisfied: fsspec>=2023.5.0 in /home/zadmin/Desktop/test/GAAI-B5-GCP/.venv/lib/python3.12/site-packages (from huggingface-hub<2.0,>=0.16.4->tokenizers>=0.13.2->chromadb) (2025.9.0)\n",
      "Requirement already satisfied: hf-xet<2.0.0,>=1.1.3 in /home/zadmin/Desktop/test/GAAI-B5-GCP/.venv/lib/python3.12/site-packages (from huggingface-hub<2.0,>=0.16.4->tokenizers>=0.13.2->chromadb) (1.1.10)\n",
      "Requirement already satisfied: shellingham>=1.3.0 in /home/zadmin/Desktop/test/GAAI-B5-GCP/.venv/lib/python3.12/site-packages (from typer>=0.9.0->chromadb) (1.5.4)\n",
      "Requirement already satisfied: httptools>=0.6.3 in /home/zadmin/Desktop/test/GAAI-B5-GCP/.venv/lib/python3.12/site-packages (from uvicorn[standard]>=0.18.3->chromadb) (0.6.4)\n",
      "Requirement already satisfied: uvloop>=0.15.1 in /home/zadmin/Desktop/test/GAAI-B5-GCP/.venv/lib/python3.12/site-packages (from uvicorn[standard]>=0.18.3->chromadb) (0.21.0)\n",
      "Requirement already satisfied: watchfiles>=0.13 in /home/zadmin/Desktop/test/GAAI-B5-GCP/.venv/lib/python3.12/site-packages (from uvicorn[standard]>=0.18.3->chromadb) (1.1.0)\n",
      "Requirement already satisfied: websockets>=10.4 in /home/zadmin/Desktop/test/GAAI-B5-GCP/.venv/lib/python3.12/site-packages (from uvicorn[standard]>=0.18.3->chromadb) (15.0.1)\n",
      "Requirement already satisfied: humanfriendly>=9.1 in /home/zadmin/Desktop/test/GAAI-B5-GCP/.venv/lib/python3.12/site-packages (from coloredlogs->onnxruntime>=1.14.1->chromadb) (10.0)\n",
      "Requirement already satisfied: oauthlib>=3.0.0 in /home/zadmin/Desktop/test/GAAI-B5-GCP/.venv/lib/python3.12/site-packages (from requests-oauthlib->kubernetes>=28.1.0->chromadb) (3.3.1)\n",
      "Requirement already satisfied: mpmath<1.4,>=1.1.0 in /home/zadmin/Desktop/test/GAAI-B5-GCP/.venv/lib/python3.12/site-packages (from sympy->onnxruntime>=1.14.1->chromadb) (1.3.0)\n",
      "Note: you may need to restart the kernel to use updated packages.\n"
     ]
    }
   ],
   "source": [
    "pip install --upgrade langchain langchain-community langchain-google-genai mlflow chromadb"
   ]
  },
  {
   "cell_type": "markdown",
   "id": "4537e2dd",
   "metadata": {},
   "source": [
    "## 3. Import Libraries"
   ]
  },
  {
   "cell_type": "code",
   "execution_count": 4,
   "id": "42ec9f25",
   "metadata": {},
   "outputs": [
    {
     "name": "stdout",
     "output_type": "stream",
     "text": [
      "Gemini API key loaded and configured successfully.\n"
     ]
    }
   ],
   "source": [
    "# Standard libraries\n",
    "import pandas as pd\n",
    "from typing import List, Dict\n",
    "\n",
    "# LangChain imports\n",
    "from langchain.chains import RetrievalQA\n",
    "from langchain.text_splitter import CharacterTextSplitter\n",
    "from langchain.vectorstores import Chroma\n",
    "from langchain.docstore.document import Document\n",
    "from langchain_google_genai import GoogleGenerativeAIEmbeddings\n",
    "from langchain.chat_models import init_chat_model\n",
    "\n",
    "\n",
    "# MLflow for experiment tracking\n",
    "import mlflow\n",
    "\n",
    "# Import dotenv and other required libraries\n",
    "from dotenv import load_dotenv\n",
    "import os\n",
    "import google.generativeai as genai\n",
    "\n",
    "# Load environment variables from .env file\n",
    "load_dotenv()\n",
    "\n",
    "# Fetch the API key\n",
    "api_key = os.getenv(\"GOOGLE_API_KEY\")\n",
    "\n",
    "# Configure Gemini with the API key\n",
    "genai.configure(api_key=api_key)\n",
    "\n",
    "print(\"Gemini API key loaded and configured successfully.\")\n"
   ]
  },
  {
   "cell_type": "markdown",
   "id": "73dac955",
   "metadata": {},
   "source": [
    "## 4. Configure Models\n",
    "Set up the embedding and generative model names."
   ]
  },
  {
   "cell_type": "code",
   "execution_count": 20,
   "id": "c2810f7f",
   "metadata": {},
   "outputs": [],
   "source": [
    "embedding_model_name = \"models/gemini-embedding-001\"\n",
    "model_name = \"gemini-2.0-flash\""
   ]
  },
  {
   "cell_type": "markdown",
   "id": "22eb592f",
   "metadata": {},
   "source": [
    "## 5. Load Course Dataset\n",
    "Load the course catalog CSV from the provided URL."
   ]
  },
  {
   "cell_type": "code",
   "execution_count": 6,
   "id": "5aff74b0",
   "metadata": {},
   "outputs": [
    {
     "data": {
      "text/html": [
       "<div>\n",
       "<style scoped>\n",
       "    .dataframe tbody tr th:only-of-type {\n",
       "        vertical-align: middle;\n",
       "    }\n",
       "\n",
       "    .dataframe tbody tr th {\n",
       "        vertical-align: top;\n",
       "    }\n",
       "\n",
       "    .dataframe thead th {\n",
       "        text-align: right;\n",
       "    }\n",
       "</style>\n",
       "<table border=\"1\" class=\"dataframe\">\n",
       "  <thead>\n",
       "    <tr style=\"text-align: right;\">\n",
       "      <th></th>\n",
       "      <th>course_id</th>\n",
       "      <th>title</th>\n",
       "      <th>description</th>\n",
       "    </tr>\n",
       "  </thead>\n",
       "  <tbody>\n",
       "    <tr>\n",
       "      <th>0</th>\n",
       "      <td>C001</td>\n",
       "      <td>Foundations of Machine Learning</td>\n",
       "      <td>Understand foundational machine learning algor...</td>\n",
       "    </tr>\n",
       "    <tr>\n",
       "      <th>1</th>\n",
       "      <td>C002</td>\n",
       "      <td>Deep Learning with TensorFlow and Keras</td>\n",
       "      <td>Explore neural network architectures using Ten...</td>\n",
       "    </tr>\n",
       "    <tr>\n",
       "      <th>2</th>\n",
       "      <td>C003</td>\n",
       "      <td>Natural Language Processing Fundamentals</td>\n",
       "      <td>Dive into NLP techniques for processing and un...</td>\n",
       "    </tr>\n",
       "    <tr>\n",
       "      <th>3</th>\n",
       "      <td>C004</td>\n",
       "      <td>Computer Vision and Image Processing</td>\n",
       "      <td>Learn the principles of computer vision and im...</td>\n",
       "    </tr>\n",
       "    <tr>\n",
       "      <th>4</th>\n",
       "      <td>C005</td>\n",
       "      <td>Reinforcement Learning Basics</td>\n",
       "      <td>Get introduced to reinforcement learning parad...</td>\n",
       "    </tr>\n",
       "  </tbody>\n",
       "</table>\n",
       "</div>"
      ],
      "text/plain": [
       "  course_id                                     title  \\\n",
       "0      C001           Foundations of Machine Learning   \n",
       "1      C002   Deep Learning with TensorFlow and Keras   \n",
       "2      C003  Natural Language Processing Fundamentals   \n",
       "3      C004      Computer Vision and Image Processing   \n",
       "4      C005             Reinforcement Learning Basics   \n",
       "\n",
       "                                         description  \n",
       "0  Understand foundational machine learning algor...  \n",
       "1  Explore neural network architectures using Ten...  \n",
       "2  Dive into NLP techniques for processing and un...  \n",
       "3  Learn the principles of computer vision and im...  \n",
       "4  Get introduced to reinforcement learning parad...  "
      ]
     },
     "execution_count": 6,
     "metadata": {},
     "output_type": "execute_result"
    }
   ],
   "source": [
    "data_url = \"https://raw.githubusercontent.com/Bluedata-Consulting/GAAPB01-training-code-base/refs/heads/main/Assignments/assignment2dataset.csv\"\n",
    "df_courses = pd.read_csv(data_url)\n",
    "\n",
    "# Display the first few rows\n",
    "df_courses.head()"
   ]
  },
  {
   "cell_type": "markdown",
   "id": "013088bf",
   "metadata": {},
   "source": [
    "## 6. Prepare Course Documents\n",
    "Combine course title and description, then convert to LangChain Document objects."
   ]
  },
  {
   "cell_type": "code",
   "execution_count": 7,
   "id": "a26b0402",
   "metadata": {},
   "outputs": [
    {
     "name": "stdout",
     "output_type": "stream",
     "text": [
      "Prepared 25 course documents for embedding.\n"
     ]
    }
   ],
   "source": [
    "# Combine title + description for embedding\n",
    "df_courses[\"content\"] = df_courses[\"title\"] + \". \" + df_courses[\"description\"]\n",
    "\n",
    "# Convert to LangChain Document objects\n",
    "course_documents = [\n",
    "    Document(page_content=text, metadata={\"course_id\": cid})\n",
    "    for text, cid in zip(df_courses[\"content\"], df_courses[\"course_id\"])\n",
    "]\n",
    "\n",
    "# Optional: split long documents into chunks (here, each course is short, so splitting is optional)\n",
    "text_splitter = CharacterTextSplitter(chunk_size=1000, chunk_overlap=0)\n",
    "texts = text_splitter.split_documents(course_documents)\n",
    "\n",
    "print(f\"Prepared {len(texts)} course documents for embedding.\")"
   ]
  },
  {
   "cell_type": "markdown",
   "id": "5402dfe4",
   "metadata": {},
   "source": [
    "## 7. Create Embeddings\n",
    "Generate embeddings for all course documents using Gemini."
   ]
  },
  {
   "cell_type": "code",
   "execution_count": 8,
   "id": "1059f521",
   "metadata": {},
   "outputs": [],
   "source": [
    "# Initialize embeddings model\n",
    "embeddings = GoogleGenerativeAIEmbeddings(model=embedding_model_name)"
   ]
  },
  {
   "cell_type": "markdown",
   "id": "88e8d9b6",
   "metadata": {},
   "source": [
    "## 8. Build Chroma Vector Store\n",
    "Use Chroma to index course embeddings for fast semantic similarity search."
   ]
  },
  {
   "cell_type": "code",
   "execution_count": 9,
   "id": "8e0ed44f",
   "metadata": {},
   "outputs": [
    {
     "name": "stdout",
     "output_type": "stream",
     "text": [
      "Vector store created with 25 documents.\n"
     ]
    }
   ],
   "source": [
    "# Initialize Chroma vector store from documents and embeddings\n",
    "docsearch = Chroma.from_documents(texts, embeddings)\n",
    "\n",
    "print(f\"Vector store created with {len(texts)} documents.\")"
   ]
  },
  {
   "cell_type": "markdown",
   "id": "8d5b44a3",
   "metadata": {},
   "source": [
    "## 9. Initialize Language Model\n",
    "Use Gemini generative model for generating recommendations based on retrieved courses."
   ]
  },
  {
   "cell_type": "code",
   "execution_count": 10,
   "id": "75852b32",
   "metadata": {},
   "outputs": [],
   "source": [
    "llm = init_chat_model(model_name, model_provider=\"google_genai\")"
   ]
  },
  {
   "cell_type": "markdown",
   "id": "b718291a",
   "metadata": {},
   "source": [
    "## 10. Construct RetrievalQA Chain\n",
    "This chain uses the vector store to retrieve relevant courses and the LLM to generate a human-readable answer."
   ]
  },
  {
   "cell_type": "code",
   "execution_count": 11,
   "id": "da6e5d73",
   "metadata": {},
   "outputs": [
    {
     "name": "stdout",
     "output_type": "stream",
     "text": [
      "RetrievalQA chain is ready.\n"
     ]
    }
   ],
   "source": [
    "qa = RetrievalQA.from_chain_type(\n",
    "    llm=llm,\n",
    "    chain_type=\"stuff\",  # combine all retrieved content\n",
    "    retriever=docsearch.as_retriever(),\n",
    "    return_source_documents=True,\n",
    ")\n",
    "\n",
    "print(\"RetrievalQA chain is ready.\")"
   ]
  },
  {
   "cell_type": "markdown",
   "id": "28acf538",
   "metadata": {},
   "source": [
    "## Define Interactive Recommendation Function\n",
    "\n",
    "This function takes a user query (profile) and returns the top recommended courses along with the retrieved course IDs."
   ]
  },
  {
   "cell_type": "code",
   "execution_count": 17,
   "id": "d954d6a4",
   "metadata": {},
   "outputs": [],
   "source": [
    "def recommend_courses(profile: str, top_k: int = 5) -> Dict:\n",
    "    \"\"\"\n",
    "    Recommend courses based on user profile.\n",
    "    \n",
    "    Parameters\n",
    "    ----------\n",
    "    profile : str\n",
    "        User's completed courses + interests.\n",
    "    top_k : int\n",
    "        Number of top courses to return.\n",
    "    \n",
    "    Returns\n",
    "    -------\n",
    "    Dict\n",
    "        - 'answer': text recommendation\n",
    "        - 'recommended_course_ids': list of top course IDs\n",
    "    \"\"\"\n",
    "    # Run the RetrievalQA chain\n",
    "    result = qa(profile)\n",
    "    \n",
    "    # Extract course_ids from retrieved documents\n",
    "    retrieved_courses = [doc.metadata[\"course_id\"] for doc in result[\"source_documents\"]][:top_k]\n",
    "    \n",
    "    return {\n",
    "        \"answer\": result[\"result\"],\n",
    "        \"recommended_course_ids\": retrieved_courses\n",
    "    }"
   ]
  },
  {
   "cell_type": "markdown",
   "id": "d06c9268",
   "metadata": {},
   "source": [
    "## Test the Interactive Function"
   ]
  },
  {
   "cell_type": "code",
   "execution_count": 21,
   "id": "9bd42d46",
   "metadata": {},
   "outputs": [
    {
     "name": "stdout",
     "output_type": "stream",
     "text": [
      "Recommended Answer:\n",
      " Given your interest in data visualization and your completion of the \"Python Programming for Data Science\" course, you might find the \"Data Visualization with Tableau\" course a good fit. You could also consider learning more about the matplotlib library in Python.\n",
      "Top Course IDs:\n",
      " ['C016', 'C014', 'C017', 'C012']\n"
     ]
    }
   ],
   "source": [
    "# user query\n",
    "user_query = \"I’ve completed the ‘Python Programming for Data Science’ course and enjoy data visualization.\"\n",
    "\n",
    "recommendation = recommend_courses(user_query)\n",
    "\n",
    "print(\"Recommended Answer:\\n\", recommendation[\"answer\"])\n",
    "print(\"Top Course IDs:\\n\", recommendation[\"recommended_course_ids\"])\n"
   ]
  },
  {
   "cell_type": "markdown",
   "id": "cb56fdcb",
   "metadata": {},
   "source": [
    "## Evaluation Report: Test Recommendations for 5 Profiles\n",
    "\n",
    "We will run the recommendation engine for 5 sample user profiles, display the top recommended courses, and add brief comments on relevance."
   ]
  },
  {
   "cell_type": "code",
   "execution_count": 19,
   "id": "26bd19f1",
   "metadata": {},
   "outputs": [
    {
     "data": {
      "text/html": [
       "<div>\n",
       "<style scoped>\n",
       "    .dataframe tbody tr th:only-of-type {\n",
       "        vertical-align: middle;\n",
       "    }\n",
       "\n",
       "    .dataframe tbody tr th {\n",
       "        vertical-align: top;\n",
       "    }\n",
       "\n",
       "    .dataframe thead th {\n",
       "        text-align: right;\n",
       "    }\n",
       "</style>\n",
       "<table border=\"1\" class=\"dataframe\">\n",
       "  <thead>\n",
       "    <tr style=\"text-align: right;\">\n",
       "      <th></th>\n",
       "      <th>Profile No.</th>\n",
       "      <th>User Query</th>\n",
       "      <th>Recommended Courses</th>\n",
       "      <th>Answer Text</th>\n",
       "      <th>Relevance Comment</th>\n",
       "    </tr>\n",
       "  </thead>\n",
       "  <tbody>\n",
       "    <tr>\n",
       "      <th>0</th>\n",
       "      <td>1</td>\n",
       "      <td>I’ve completed the ‘Python Programming for Dat...</td>\n",
       "      <td>[C016, C014, C017, C012]</td>\n",
       "      <td>Given your interest in data visualization afte...</td>\n",
       "      <td>Highly relevant</td>\n",
       "    </tr>\n",
       "    <tr>\n",
       "      <th>1</th>\n",
       "      <td>2</td>\n",
       "      <td>I know Azure basics and want to manage contain...</td>\n",
       "      <td>[C008, C007, C009, C025]</td>\n",
       "      <td>Based on your interest in managing containers ...</td>\n",
       "      <td>Highly relevant</td>\n",
       "    </tr>\n",
       "    <tr>\n",
       "      <th>2</th>\n",
       "      <td>3</td>\n",
       "      <td>My background is in ML fundamentals; I’d like ...</td>\n",
       "      <td>[C025, C002, C005, C001]</td>\n",
       "      <td>Based on your background in ML fundamentals an...</td>\n",
       "      <td>Highly relevant</td>\n",
       "    </tr>\n",
       "    <tr>\n",
       "      <th>3</th>\n",
       "      <td>4</td>\n",
       "      <td>I want to learn to build and deploy microservi...</td>\n",
       "      <td>[C009, C010, C008, C007]</td>\n",
       "      <td>Based on the provided course descriptions, the...</td>\n",
       "      <td>Highly relevant</td>\n",
       "    </tr>\n",
       "    <tr>\n",
       "      <th>4</th>\n",
       "      <td>5</td>\n",
       "      <td>I’m interested in blockchain and smart contrac...</td>\n",
       "      <td>[C023, C021, C022, C024]</td>\n",
       "      <td>Based on your interest in blockchain and smart...</td>\n",
       "      <td>Highly relevant</td>\n",
       "    </tr>\n",
       "  </tbody>\n",
       "</table>\n",
       "</div>"
      ],
      "text/plain": [
       "   Profile No.                                         User Query  \\\n",
       "0            1  I’ve completed the ‘Python Programming for Dat...   \n",
       "1            2  I know Azure basics and want to manage contain...   \n",
       "2            3  My background is in ML fundamentals; I’d like ...   \n",
       "3            4  I want to learn to build and deploy microservi...   \n",
       "4            5  I’m interested in blockchain and smart contrac...   \n",
       "\n",
       "        Recommended Courses  \\\n",
       "0  [C016, C014, C017, C012]   \n",
       "1  [C008, C007, C009, C025]   \n",
       "2  [C025, C002, C005, C001]   \n",
       "3  [C009, C010, C008, C007]   \n",
       "4  [C023, C021, C022, C024]   \n",
       "\n",
       "                                         Answer Text Relevance Comment  \n",
       "0  Given your interest in data visualization afte...   Highly relevant  \n",
       "1  Based on your interest in managing containers ...   Highly relevant  \n",
       "2  Based on your background in ML fundamentals an...   Highly relevant  \n",
       "3  Based on the provided course descriptions, the...   Highly relevant  \n",
       "4  Based on your interest in blockchain and smart...   Highly relevant  "
      ]
     },
     "execution_count": 19,
     "metadata": {},
     "output_type": "execute_result"
    }
   ],
   "source": [
    "# Define the 5 test profiles\n",
    "test_profiles = [\n",
    "    \"I’ve completed the ‘Python Programming for Data Science’ course and enjoy data visualization.\",\n",
    "    \"I know Azure basics and want to manage containers and build CI/CD pipelines.\",\n",
    "    \"My background is in ML fundamentals; I’d like to specialize in neural networks and production workflows.\",\n",
    "    \"I want to learn to build and deploy microservices with Kubernetes—what courses fit best?\",\n",
    "    \"I’m interested in blockchain and smart contracts but have no prior experience. Which courses do you suggest?\"\n",
    "]\n",
    "\n",
    "# Prepare an empty list to store evaluation results\n",
    "evaluation_results = []\n",
    "\n",
    "# Run recommendation for each profile\n",
    "for idx, profile in enumerate(test_profiles, 1):\n",
    "    rec = recommend_courses(profile)\n",
    "    \n",
    "    # For simplicity, we can generate a relevance comment automatically\n",
    "    relevance_comment = \"Highly relevant\" if rec[\"recommended_course_ids\"] else \"Needs review\"\n",
    "    \n",
    "    evaluation_results.append({\n",
    "        \"Profile No.\": idx,\n",
    "        \"User Query\": profile,\n",
    "        \"Recommended Courses\": rec[\"recommended_course_ids\"],\n",
    "        \"Answer Text\": rec[\"answer\"],\n",
    "        \"Relevance Comment\": relevance_comment\n",
    "    })\n",
    "\n",
    "# Convert to DataFrame for display\n",
    "eval_report_df = pd.DataFrame(evaluation_results)\n",
    "eval_report_df"
   ]
  },
  {
   "cell_type": "markdown",
   "id": "a7512a70",
   "metadata": {},
   "source": [
    "### Notes on Relevance Comments\n",
    "\n",
    "- **Highly relevant:** The recommended courses closely match the user's completed courses and stated interests.  \n",
    "- **Needs review:** Recommendations may include irrelevant or duplicate courses and should be manually checked."
   ]
  }
 ],
 "metadata": {
  "kernelspec": {
   "display_name": ".venv",
   "language": "python",
   "name": "python3"
  },
  "language_info": {
   "codemirror_mode": {
    "name": "ipython",
    "version": 3
   },
   "file_extension": ".py",
   "mimetype": "text/x-python",
   "name": "python",
   "nbconvert_exporter": "python",
   "pygments_lexer": "ipython3",
   "version": "3.12.3"
  }
 },
 "nbformat": 4,
 "nbformat_minor": 5
}
